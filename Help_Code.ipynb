{
 "cells": [
  {
   "cell_type": "code",
   "execution_count": 1,
   "id": "a460a03e",
   "metadata": {},
   "outputs": [],
   "source": [
    "# to compute distances based on coordinates\n",
    "from math import atan2, cos, radians, sin, sqrt\n",
    "\n",
    "def great_circle_distance(point1: tuple[float, float], point2: tuple[float, float]) -> float:\n",
    "    \"\"\"\n",
    "    Uses the haversine formula to compute the distance (m) between two\n",
    "    points (latitude, longitude) in coordinates (in degrees).\n",
    "    Adapted from http://www.movable-type.co.uk/scripts/latlong.html.\n",
    "    :param point1: tuple whose first item represents the latitude, and\n",
    "        its second item the longitude of a point in degrees\n",
    "    :param point2: tuple whose first item represents the latitude, and\n",
    "        its second item the longitude of a point in degrees\n",
    "    :return: great-circle distance between the two points in meters\n",
    "    \"\"\"\n",
    "    r = 6371e3  # radius of the earth, in meters\n",
    "\n",
    "    latitude1_deg, longitude1_deg = point1  # in degrees\n",
    "    latitude2_deg, longitude2_deg = point2  # in degrees\n",
    "\n",
    "    latitude1_rad = radians(latitude1_deg)  # in radians\n",
    "    latitude2_rad = radians(latitude2_deg)  # in radians\n",
    "\n",
    "    latitude_delta = radians(latitude2_deg - latitude1_deg)\n",
    "    longitude_delta = radians(longitude2_deg - longitude1_deg)\n",
    "\n",
    "    a = sin(latitude_delta / 2) ** 2 + cos(latitude1_rad) * cos(latitude2_rad) * sin(longitude_delta / 2) ** 2\n",
    "    c = 2 * atan2(sqrt(a), sqrt(1 - a))\n",
    "\n",
    "    return r * c\n"
   ]
  },
  {
   "cell_type": "markdown",
   "id": "0ada5474",
   "metadata": {},
   "source": [
    "To run the following block of code, you will need the geopandas library. Unfortunately, it wouldn’t play nice with the other libraries installed by default in Anaconda, so here are some instructions to get it running:\n",
    "\n",
    "1.\tOpen Anaconda Navigator.\n",
    "1.\tGo to Environments (on the left).\n",
    "1.\tCreate a new environment (button near the bottom) and give it a nice name (e.g. “GA2”). Make sure to select Python 3.9.x (x does not matter too much).\n",
    "1.\tWhen it is ready, select ‘not installed’ from the drop-down (near the top).\n",
    "    1.\tFor each of [`geopandas`, `statsmodels`, `seaborn`]:\n",
    "        1.\tSearch for it (to the right of the drop-down).\n",
    "        1.\tClick the box on its left (it should show a down-arrow inside).\n",
    "1.\tClick apply (wait for solving package specifications).\n",
    "1.\tClick apply (wait for install to be finished).\n",
    "1.\tGo back to Home (on the left).\n",
    "1.\tWith your new environment (“GA2”) selected at the top, click install on jupyter notebook.\n",
    "1.\tYou can now run jupyter notebook from here as normally. On restarts, make sure your new environment is selected.\n",
    "\n",
    "If you run into any issues with this, please ask your tutor for help."
   ]
  },
  {
   "cell_type": "code",
   "execution_count": 2,
   "id": "76f28c42",
   "metadata": {
    "scrolled": false
   },
   "outputs": [
    {
     "ename": "ModuleNotFoundError",
     "evalue": "No module named 'geopandas'",
     "output_type": "error",
     "traceback": [
      "\u001b[0;31m---------------------------------------------------------------------------\u001b[0m",
      "\u001b[0;31mModuleNotFoundError\u001b[0m                       Traceback (most recent call last)",
      "Cell \u001b[0;32mIn[2], line 5\u001b[0m\n\u001b[1;32m      3\u001b[0m \u001b[38;5;28;01mimport\u001b[39;00m \u001b[38;5;21;01mpandas\u001b[39;00m \u001b[38;5;28;01mas\u001b[39;00m \u001b[38;5;21;01mpd\u001b[39;00m\n\u001b[1;32m      4\u001b[0m \u001b[38;5;28;01mfrom\u001b[39;00m \u001b[38;5;21;01mshapely\u001b[39;00m\u001b[38;5;21;01m.\u001b[39;00m\u001b[38;5;21;01mgeometry\u001b[39;00m \u001b[38;5;28;01mimport\u001b[39;00m Point\n\u001b[0;32m----> 5\u001b[0m \u001b[38;5;28;01mimport\u001b[39;00m \u001b[38;5;21;01mgeopandas\u001b[39;00m \u001b[38;5;28;01mas\u001b[39;00m \u001b[38;5;21;01mgpd\u001b[39;00m\n\u001b[1;32m      6\u001b[0m \u001b[38;5;28;01mimport\u001b[39;00m \u001b[38;5;21;01mmatplotlib\u001b[39;00m\u001b[38;5;21;01m.\u001b[39;00m\u001b[38;5;21;01mpyplot\u001b[39;00m \u001b[38;5;28;01mas\u001b[39;00m \u001b[38;5;21;01mplt\u001b[39;00m\n\u001b[1;32m      7\u001b[0m \u001b[38;5;28;01mimport\u001b[39;00m \u001b[38;5;21;01msqlite3\u001b[39;00m\n",
      "\u001b[0;31mModuleNotFoundError\u001b[0m: No module named 'geopandas'"
     ]
    }
   ],
   "source": [
    "#Weather and Air Quality Map of NL\n",
    "from matplotlib.lines import Line2D\n",
    "import pandas as pd\n",
    "from shapely.geometry import Point\n",
    "import geopandas as gpd\n",
    "import matplotlib.pyplot as plt\n",
    "import sqlite3\n",
    "\n",
    "def plot_stations_on_map(df_stations):\n",
    "    map_nl = gpd.read_file('./datasets/stanford-st293bj4601-shapefile.zip')\n",
    "\n",
    "    gdf = gpd.GeoDataFrame(geometry=[Point(x, y) for x, y in zip(df_stations['longitude'], df_stations['latitude'])])\n",
    "    gdf['color'] = list(df_stations['color'])\n",
    "    gdf.crs = map_nl.crs\n",
    "\n",
    "    f, ax = plt.subplots(1, figsize=(8, 8))\n",
    "\n",
    "    map_nl.plot(linewidth=0.5, edgecolor='white', color='lightgrey',legend=True, ax=ax)\n",
    "    gdf.plot(ax=ax, marker='o', color=gdf['color'], markersize=10)\n",
    "\n",
    "    ax.set_title('Air Quality and Weather Stations in the Netherlands', size=15)\n",
    "    ax.set_xlabel('Longitude')\n",
    "    ax.set_ylabel('Latitude')\n",
    "\n",
    "    legend = [\n",
    "        Line2D([0], [0], markerfacecolor='#FF8F35', marker='o', color='w', label='Weather station'),\n",
    "        Line2D([0], [0], markerfacecolor='#5499C7', marker='o', color='w', label='Air quality station')\n",
    "    ]\n",
    "    ax.legend(handles=legend, loc='upper left')\n",
    "    return ax\n",
    "    \n",
    "def all_stations():\n",
    "    aqs_sql = \"SELECT name, latitude, longitude FROM air_quality_stations\"\n",
    "    ws_sql = \"SELECT name, latitude, longitude FROM weather_stations\"\n",
    "    with sqlite3.connect('./datasets/aqw.db') as conn:\n",
    "        df_aqs = pd.read_sql_query(aqs_sql, conn)\n",
    "        df_ws = pd.read_sql_query(ws_sql, conn)\n",
    "    df_aqs['color'] = \"#5499c7\"\n",
    "    df_ws['color'] = \"#ff8f35\"\n",
    "    return pd.concat([df_ws, df_aqs])\n",
    "\n",
    "plot_stations_on_map(all_stations());"
   ]
  },
  {
   "cell_type": "code",
   "execution_count": null,
   "id": "6f4ce7fa",
   "metadata": {},
   "outputs": [],
   "source": []
  }
 ],
 "metadata": {
  "kernelspec": {
   "display_name": "Python 3 (ipykernel)",
   "language": "python",
   "name": "python3"
  },
  "language_info": {
   "codemirror_mode": {
    "name": "ipython",
    "version": 3
   },
   "file_extension": ".py",
   "mimetype": "text/x-python",
   "name": "python",
   "nbconvert_exporter": "python",
   "pygments_lexer": "ipython3",
   "version": "3.10.9"
  }
 },
 "nbformat": 4,
 "nbformat_minor": 5
}
